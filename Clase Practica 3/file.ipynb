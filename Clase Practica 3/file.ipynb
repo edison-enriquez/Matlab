{
 "cells": [
  {
   "cell_type": "code",
   "execution_count": null,
   "metadata": {},
   "outputs": [
    {
     "name": "stdout",
     "output_type": "stream",
     "text": [
      "/Users/edisonenriquez/Downloads/dolar.txt\n"
     ]
    }
   ],
   "source": [
    "from tkinter import filedialog\n",
    "from tkinter import *\n",
    "\n",
    "root = Tk()\n",
    "root.title(\"Welcome to Repl.it\")\n",
    "\n",
    "lbl = Label(root, text=\"Hello\")\n",
    "lbl.grid(column=0, row=0)\n",
    "\n",
    "txt = Entry(root,width=10)\n",
    "txt.grid(column=1, row=0)\n",
    "\n",
    "def clicked():\n",
    "    root.filename =  filedialog.askopenfilename(initialdir = \"/\",title = \"Select file\",filetypes = ((\"txt files\",\"*.txt\"),(\"all files\",\"*.*\")))\n",
    "    print (root.filename)\n",
    "\n",
    "btn = Button(root, text=\"Click Me\", command=clicked)\n",
    "btn2 = Button(root, text=\"Click Me\", command=clicked)\n",
    "btn.grid(column=2, row=0)\n",
    "\n",
    "root.mainloop()"
   ]
  }
 ],
 "metadata": {
  "kernelspec": {
   "display_name": "Python 3",
   "language": "python",
   "name": "python3"
  },
  "language_info": {
   "codemirror_mode": {
    "name": "ipython",
    "version": 3
   },
   "file_extension": ".py",
   "mimetype": "text/x-python",
   "name": "python",
   "nbconvert_exporter": "python",
   "pygments_lexer": "ipython3",
   "version": "3.7.6"
  }
 },
 "nbformat": 4,
 "nbformat_minor": 4
}
