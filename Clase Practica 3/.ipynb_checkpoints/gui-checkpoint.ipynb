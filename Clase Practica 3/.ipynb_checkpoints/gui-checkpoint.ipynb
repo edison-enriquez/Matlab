{
 "cells": [
  {
   "cell_type": "code",
   "execution_count": null,
   "metadata": {},
   "outputs": [],
   "source": [
    "import tkinter as tk\n",
    "\n",
    "def calcular():\n",
    "    val = (float(e1.get())* 9/5) +32\n",
    "    #lbl.configure(text=\"Button was clicked !!\")\n",
    "    e2.config(state='normal')\n",
    "    e2.delete(0, tk.END)\n",
    "    e2.insert(10, val)\n",
    "    e2.config(state='disabled')\n",
    "\n",
    "root = tk.Tk()\n",
    "\n",
    "root.title(\"GUI de ejemplo con Python\")\n",
    "#master.geometry('350x200')\n",
    "\n",
    "gradosC = tk.Label(root, text=\"ºC\").grid(row=0)\n",
    "gradosF = tk.Label(root, text=\"ºF\").grid(row=1)\n",
    "\n",
    "e1 = tk.Entry(root)\n",
    "e2 = tk.Entry(root, state='disabled')\n",
    "\n",
    "e1.grid(row=0, column=1)\n",
    "e2.grid(row=1, column=1)\n",
    "\n",
    "btn1 = tk.Button(root, text='Calcular', command=calcular)\n",
    "btn1.grid( column=3,row=0)\n",
    "\n",
    "root.mainloop()"
   ]
  },
  {
   "cell_type": "code",
   "execution_count": null,
   "metadata": {},
   "outputs": [],
   "source": []
  }
 ],
 "metadata": {
  "kernelspec": {
   "display_name": "Python 3",
   "language": "python",
   "name": "python3"
  },
  "language_info": {
   "codemirror_mode": {
    "name": "ipython",
    "version": 3
   },
   "file_extension": ".py",
   "mimetype": "text/x-python",
   "name": "python",
   "nbconvert_exporter": "python",
   "pygments_lexer": "ipython3",
   "version": "3.7.6"
  }
 },
 "nbformat": 4,
 "nbformat_minor": 4
}
